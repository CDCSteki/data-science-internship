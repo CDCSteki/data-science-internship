{
 "cells": [
  {
   "cell_type": "markdown",
   "id": "6554f362",
   "metadata": {},
   "source": [
    "# INITIAL SETUP"
   ]
  },
  {
   "cell_type": "code",
   "execution_count": 435,
   "id": "640f907e",
   "metadata": {},
   "outputs": [],
   "source": [
    "import pandas as pd\n",
    "import os\n",
    "import numpy as np\n",
    "import seaborn as sns                      \n",
    "import matplotlib.pyplot as plt\n",
    "from datetime import datetime as dt\n",
    "from sklearn.preprocessing import LabelEncoder, OneHotEncoder\n",
    "from sklearn.model_selection import train_test_split\n",
    "from sklearn.preprocessing import RobustScaler\n",
    "from sklearn.linear_model import LinearRegression\n",
    "from sklearn.ensemble import RandomForestRegressor,GradientBoostingRegressor\n",
    "from sklearn.metrics import mean_absolute_error,mean_squared_error,r2_score,f1_score,precision_score,recall_score\n",
    "            \n",
    "%matplotlib inline     \n",
    "sns.set(color_codes=True)\n",
    "\n",
    "pd.set_option('display.max_columns', None)\n",
    "pd.set_option('display.max_rows', None)\n",
    "pd.set_option('display.width', 1000)\n",
    "data = pd.read_csv(\"../data/cleaned/FIFA_players_21_cleaned.csv\")"
   ]
  },
  {
   "cell_type": "markdown",
   "id": "237a2ba3",
   "metadata": {},
   "source": [
    "# DATA PREPROCESSING"
   ]
  },
  {
   "cell_type": "markdown",
   "id": "c640d98f",
   "metadata": {},
   "source": [
    "Copying and changing columns to minimalize skewness. Also deleting unnecessary columns"
   ]
  },
  {
   "cell_type": "code",
   "execution_count": 436,
   "id": "e8a4bec6",
   "metadata": {},
   "outputs": [],
   "source": [
    "df = data.copy()\n",
    "cols_to_log = ['wage_eur_year_m', 'value_eur_m', 'release_clause_eur_m']\n",
    "for col in cols_to_log:\n",
    "    df[col] = np.log1p(df[col])\n",
    "df.drop([\"sofifa_id\",\"player_url\",\"short_name\",\"long_name\",\"dob\",\"joined\",\"club_name\",\"league_name\",\"player_positions\",\"nationality\"],axis=1,inplace=True)"
   ]
  },
  {
   "cell_type": "markdown",
   "id": "c7588798",
   "metadata": {},
   "source": [
    "Encodding with label and one hot"
   ]
  },
  {
   "cell_type": "code",
   "execution_count": 437,
   "id": "6ce76b98",
   "metadata": {},
   "outputs": [],
   "source": [
    "def encoder(df, col):\n",
    "    if df[col].dtype == 'object':\n",
    "        n_unique = df[col].nunique()\n",
    "        \n",
    "        if n_unique <= 2:\n",
    "            le = LabelEncoder()\n",
    "            df[col] = le.fit_transform(df[col])\n",
    "            return df\n",
    "        \n",
    "        elif 2 < n_unique <= 10:\n",
    "            ohe = OneHotEncoder()\n",
    "            ohe_df = pd.DataFrame(ohe.fit_transform(df[[col]]).toarray())\n",
    "            ohe_df.columns = [col + \"_\" + str(i) for i in ohe_df.columns]\n",
    "            df = df.drop(col, axis=1).join(ohe_df)\n",
    "            return df\n",
    "        else:\n",
    "            return df\n",
    "            \n",
    "    else:\n",
    "        return df\n",
    "       \n",
    "for i in df.columns:\n",
    "    df = encoder(df, i)"
   ]
  },
  {
   "cell_type": "markdown",
   "id": "5d723f9f",
   "metadata": {},
   "source": [
    "Saving csv file that is used for training models"
   ]
  },
  {
   "cell_type": "code",
   "execution_count": 438,
   "id": "a592b077",
   "metadata": {},
   "outputs": [
    {
     "name": "stdout",
     "output_type": "stream",
     "text": [
      "File saved to: C:/Users/cozid/OneDrive/Desktop/data-science-internship/data/cleaned\\fifa_players_21_model.csv\n"
     ]
    }
   ],
   "source": [
    "output_dir = \"C:/Users/cozid/OneDrive/Desktop/data-science-internship/data/cleaned\"  \n",
    "filename = \"fifa_players_21_model.csv\"\n",
    "output_path = os.path.join(output_dir, filename)\n",
    "\n",
    "df.to_csv(output_path, index=False)\n",
    "print(f\"File saved to: {output_path}\")"
   ]
  },
  {
   "cell_type": "markdown",
   "id": "5a1130bc",
   "metadata": {},
   "source": [
    "X, Y split and training split"
   ]
  },
  {
   "cell_type": "code",
   "execution_count": 439,
   "id": "d9f8946c",
   "metadata": {},
   "outputs": [
    {
     "name": "stdout",
     "output_type": "stream",
     "text": [
      "X_train shape:  (14965, 81)\n",
      "X_test shape:  (3742, 81)\n",
      "Y_train shape:  (14965, 1)\n",
      "Y_test shape:  (3742, 1)\n"
     ]
    }
   ],
   "source": [
    "x = df.drop([\"value_eur_m\"], axis=1).values\n",
    "y = df[\"value_eur_m\"].values.reshape(-1,1)\n",
    "\n",
    "x_train,x_test,y_train,y_test=train_test_split(x,y,test_size=0.2,random_state=100)\n",
    "\n",
    "print(\"X_train shape: \",x_train.shape)\n",
    "print(\"X_test shape: \",x_test.shape)\n",
    "print(\"Y_train shape: \",y_train.shape)\n",
    "print(\"Y_test shape: \",y_test.shape)"
   ]
  },
  {
   "cell_type": "markdown",
   "id": "4b10b363",
   "metadata": {},
   "source": [
    "Using a scaler (optional)"
   ]
  },
  {
   "cell_type": "code",
   "execution_count": 440,
   "id": "0f302367",
   "metadata": {},
   "outputs": [],
   "source": [
    "scaler = RobustScaler()\n",
    "x_train = scaler.fit_transform(x_train)\n",
    "x_test = scaler.transform(x_test)"
   ]
  },
  {
   "cell_type": "markdown",
   "id": "817ef71d",
   "metadata": {},
   "source": [
    "# MODEL TRAINING AND EVALUATION"
   ]
  },
  {
   "cell_type": "markdown",
   "id": "d3ddfe2e",
   "metadata": {},
   "source": [
    "Messing around"
   ]
  },
  {
   "cell_type": "code",
   "execution_count": 441,
   "id": "8b10f5f3",
   "metadata": {},
   "outputs": [],
   "source": [
    "lr = LinearRegression()\n",
    "lr.fit(x_train,y_train)\n",
    "y_lr_train_pred=lr.predict(x_train)\n",
    "y_lr_test_pred=lr.predict(x_test)"
   ]
  },
  {
   "cell_type": "code",
   "execution_count": 442,
   "id": "4d69b01e",
   "metadata": {},
   "outputs": [
    {
     "data": {
      "text/plain": [
       "array([[1.06628935],\n",
       "       [0.28703082],\n",
       "       [1.57833299],\n",
       "       ...,\n",
       "       [0.39227194],\n",
       "       [0.21144984],\n",
       "       [0.78022533]], shape=(14965, 1))"
      ]
     },
     "execution_count": 442,
     "metadata": {},
     "output_type": "execute_result"
    }
   ],
   "source": [
    "y_lr_train_pred"
   ]
  },
  {
   "cell_type": "code",
   "execution_count": 443,
   "id": "0954fd17",
   "metadata": {},
   "outputs": [
    {
     "data": {
      "text/plain": [
       "array([[0.95551145],\n",
       "       [0.21511138],\n",
       "       [1.75785792],\n",
       "       ...,\n",
       "       [0.42199441],\n",
       "       [0.30010459],\n",
       "       [0.83290912]], shape=(14965, 1))"
      ]
     },
     "execution_count": 443,
     "metadata": {},
     "output_type": "execute_result"
    }
   ],
   "source": [
    "y_train"
   ]
  },
  {
   "cell_type": "markdown",
   "id": "2cc4356a",
   "metadata": {},
   "source": [
    "Actual model training generalized. Scores"
   ]
  },
  {
   "cell_type": "code",
   "execution_count": 444,
   "id": "73249c06",
   "metadata": {},
   "outputs": [
    {
     "name": "stderr",
     "output_type": "stream",
     "text": [
      "c:\\Users\\cozid\\OneDrive\\Desktop\\data-science-internship\\venv\\Lib\\site-packages\\sklearn\\ensemble\\_gb.py:672: DataConversionWarning: A column-vector y was passed when a 1d array was expected. Please change the shape of y to (n_samples, ), for example using ravel().\n",
      "  y = column_or_1d(y, warn=True)  # TODO: Is this still required?\n"
     ]
    },
    {
     "data": {
      "text/html": [
       "<style type=\"text/css\">\n",
       "#T_1da04_row0_col1, #T_1da04_row0_col2, #T_1da04_row1_col3, #T_1da04_row1_col4, #T_1da04_row1_col5, #T_1da04_row1_col6, #T_1da04_row1_col7, #T_1da04_row1_col8 {\n",
       "  background-color: #fde725;\n",
       "  color: #000000;\n",
       "}\n",
       "#T_1da04_row0_col3, #T_1da04_row0_col4, #T_1da04_row0_col5, #T_1da04_row0_col6, #T_1da04_row0_col7, #T_1da04_row0_col8, #T_1da04_row1_col1, #T_1da04_row1_col2 {\n",
       "  background-color: #440154;\n",
       "  color: #f1f1f1;\n",
       "}\n",
       "</style>\n",
       "<table id=\"T_1da04\">\n",
       "  <thead>\n",
       "    <tr>\n",
       "      <th class=\"blank level0\" >&nbsp;</th>\n",
       "      <th id=\"T_1da04_level0_col0\" class=\"col_heading level0 col0\" >Model</th>\n",
       "      <th id=\"T_1da04_level0_col1\" class=\"col_heading level0 col1\" >R2 Train</th>\n",
       "      <th id=\"T_1da04_level0_col2\" class=\"col_heading level0 col2\" >R2 Test</th>\n",
       "      <th id=\"T_1da04_level0_col3\" class=\"col_heading level0 col3\" >MSE Train</th>\n",
       "      <th id=\"T_1da04_level0_col4\" class=\"col_heading level0 col4\" >MSE Test</th>\n",
       "      <th id=\"T_1da04_level0_col5\" class=\"col_heading level0 col5\" >RMSE Train</th>\n",
       "      <th id=\"T_1da04_level0_col6\" class=\"col_heading level0 col6\" >RMSE Test</th>\n",
       "      <th id=\"T_1da04_level0_col7\" class=\"col_heading level0 col7\" >MAE Train</th>\n",
       "      <th id=\"T_1da04_level0_col8\" class=\"col_heading level0 col8\" >MAE Test</th>\n",
       "    </tr>\n",
       "  </thead>\n",
       "  <tbody>\n",
       "    <tr>\n",
       "      <th id=\"T_1da04_level0_row0\" class=\"row_heading level0 row0\" >1</th>\n",
       "      <td id=\"T_1da04_row0_col0\" class=\"data row0 col0\" >GradientBoostingRegressor</td>\n",
       "      <td id=\"T_1da04_row0_col1\" class=\"data row0 col1\" >0.996690</td>\n",
       "      <td id=\"T_1da04_row0_col2\" class=\"data row0 col2\" >0.996216</td>\n",
       "      <td id=\"T_1da04_row0_col3\" class=\"data row0 col3\" >0.001796</td>\n",
       "      <td id=\"T_1da04_row0_col4\" class=\"data row0 col4\" >0.002151</td>\n",
       "      <td id=\"T_1da04_row0_col5\" class=\"data row0 col5\" >0.042379</td>\n",
       "      <td id=\"T_1da04_row0_col6\" class=\"data row0 col6\" >0.046383</td>\n",
       "      <td id=\"T_1da04_row0_col7\" class=\"data row0 col7\" >0.030861</td>\n",
       "      <td id=\"T_1da04_row0_col8\" class=\"data row0 col8\" >0.033040</td>\n",
       "    </tr>\n",
       "    <tr>\n",
       "      <th id=\"T_1da04_level0_row1\" class=\"row_heading level0 row1\" >0</th>\n",
       "      <td id=\"T_1da04_row1_col0\" class=\"data row1 col0\" >LinearRegression</td>\n",
       "      <td id=\"T_1da04_row1_col1\" class=\"data row1 col1\" >0.988567</td>\n",
       "      <td id=\"T_1da04_row1_col2\" class=\"data row1 col2\" >0.988394</td>\n",
       "      <td id=\"T_1da04_row1_col3\" class=\"data row1 col3\" >0.006204</td>\n",
       "      <td id=\"T_1da04_row1_col4\" class=\"data row1 col4\" >0.006599</td>\n",
       "      <td id=\"T_1da04_row1_col5\" class=\"data row1 col5\" >0.078766</td>\n",
       "      <td id=\"T_1da04_row1_col6\" class=\"data row1 col6\" >0.081235</td>\n",
       "      <td id=\"T_1da04_row1_col7\" class=\"data row1 col7\" >0.061772</td>\n",
       "      <td id=\"T_1da04_row1_col8\" class=\"data row1 col8\" >0.063294</td>\n",
       "    </tr>\n",
       "  </tbody>\n",
       "</table>\n"
      ],
      "text/plain": [
       "<pandas.io.formats.style.Styler at 0x2133ff7e490>"
      ]
     },
     "metadata": {},
     "output_type": "display_data"
    }
   ],
   "source": [
    "lr = LinearRegression()\n",
    "gbr = GradientBoostingRegressor()\n",
    "models = [lr,gbr]\n",
    "\n",
    "results = []\n",
    "\n",
    "for model in models:\n",
    "    model.fit(x_train, y_train)\n",
    "    y_pred_test = model.predict(x_test)\n",
    "    y_pred_train = model.predict(x_train)\n",
    "    \n",
    "    r2_train = r2_score(y_train, y_pred_train)\n",
    "    rmse_train = np.sqrt(mean_squared_error(y_train, y_pred_train))\n",
    "    mae_train = mean_absolute_error(y_train, y_pred_train)\n",
    "    mse_train = mean_squared_error(y_train, y_pred_train)\n",
    "\n",
    "    r2_test = r2_score(y_test, y_pred_test)\n",
    "    rmse_test = np.sqrt(mean_squared_error(y_test, y_pred_test))\n",
    "    mae_test = mean_absolute_error(y_test, y_pred_test)\n",
    "    mse_test = mean_squared_error(y_test, y_pred_test)\n",
    "    \n",
    "    results.append({\n",
    "        \"Model\": model.__class__.__name__,\n",
    "        \"R2 Train\": r2_train,\n",
    "        \"R2 Test\": r2_test,\n",
    "        \"MSE Train\": mse_train,\n",
    "        \"MSE Test\":mse_test,\n",
    "        \"RMSE Train\": rmse_train,\n",
    "        \"RMSE Test\": rmse_test,\n",
    "        \"MAE Train\": mae_train,\n",
    "        \"MAE Test\": mae_test,\n",
    "    })\n",
    "overral = pd.DataFrame(results)\n",
    "\n",
    "overral = overral.sort_values(by=\"R2 Test\", ascending=False)\n",
    "overral = overral.style.background_gradient(cmap=\"viridis\")\n",
    "display(overral)"
   ]
  }
 ],
 "metadata": {
  "kernelspec": {
   "display_name": "venv",
   "language": "python",
   "name": "python3"
  },
  "language_info": {
   "codemirror_mode": {
    "name": "ipython",
    "version": 3
   },
   "file_extension": ".py",
   "mimetype": "text/x-python",
   "name": "python",
   "nbconvert_exporter": "python",
   "pygments_lexer": "ipython3",
   "version": "3.13.5"
  }
 },
 "nbformat": 4,
 "nbformat_minor": 5
}
